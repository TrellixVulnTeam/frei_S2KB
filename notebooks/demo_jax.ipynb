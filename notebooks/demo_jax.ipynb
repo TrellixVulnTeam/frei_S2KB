{
 "cells": [
  {
   "cell_type": "code",
   "execution_count": 1,
   "id": "a2321290-4598-4dfa-91de-a3a6b58ac983",
   "metadata": {},
   "outputs": [],
   "source": [
    "from jax import config\n",
    "\n",
    "# config.update('jax_debug_nans', True)\n",
    "# config.update('jax_enable_x64', True)"
   ]
  },
  {
   "cell_type": "code",
   "execution_count": 2,
   "id": "afbbc590-b1ef-4f2d-b8c6-c9a2ca346222",
   "metadata": {},
   "outputs": [],
   "source": [
    "# We need to import numpyro first, though we use it last\n",
    "import numpyro\n",
    "from numpyro.infer import MCMC, NUTS\n",
    "from numpyro import distributions as dist\n",
    "\n",
    "# Set the number of cores on your machine for parallelism:\n",
    "cpu_cores = 4\n",
    "numpyro.set_host_device_count(cpu_cores)"
   ]
  },
  {
   "cell_type": "code",
   "execution_count": 81,
   "id": "42efcb7c-2290-46b5-8821-9f9f216c42dd",
   "metadata": {},
   "outputs": [],
   "source": [
    "import sys\n",
    "sys.path.insert(0, '../')\n",
    "\n",
    "import matplotlib.pyplot as plt\n",
    "import astropy.units as u\n",
    "from frei import Planet, Grid, load_example_opacity\n",
    "\n",
    "# Define planetary system parameters\n",
    "planet = Planet.from_hot_jupiter()\n",
    "\n",
    "lam = np.sort(np.random.uniform(1e-6, 10e-6, 100)) * u.m\n",
    "\n",
    "# Define a grid in wavelength, pressure, and temperature; set temperature\n",
    "grid = Grid(\n",
    "    planet,\n",
    "    lam=lam,\n",
    "    n_wl_bins=30_000,     # number of wavelength bins\n",
    "    n_layers=8,       # number of pressure layers\n",
    "    T_ref=2400 * u.K,  # reference temperature at 0.1 bar (~T_eff)\n",
    ")\n",
    "\n",
    "# Load synthetic opacities, for demonstration purposes only\n",
    "grid.load_opacities(\n",
    "    opacities=load_example_opacity(grid)\n",
    ");"
   ]
  },
  {
   "cell_type": "code",
   "execution_count": 82,
   "id": "a25d51ff-b44f-4b2b-aae7-3a1a534de784",
   "metadata": {},
   "outputs": [],
   "source": [
    "# tmp = np.zeros((15, 300))\n",
    "# tmp2 = np.zeros((15, 300))\n",
    "\n",
    "# st = np.vstack([tmp, tmp2])\n",
    "\n",
    "# st[:st.shape[0]//2, :].shape"
   ]
  },
  {
   "cell_type": "code",
   "execution_count": 83,
   "id": "c6a85243-183b-42a8-9433-183ca4f05ed2",
   "metadata": {},
   "outputs": [],
   "source": [
    "# # Compute emission spectrum\n",
    "# emission_result = grid.emission_spectrum(\n",
    "#     # set n_timesteps>1 for iteration towards radiative equilibrium\n",
    "#     n_timesteps=1\n",
    "# )\n"
   ]
  },
  {
   "cell_type": "code",
   "execution_count": 84,
   "id": "7d59ac7c-16f4-4d1a-9d4f-1563cbaa0c92",
   "metadata": {},
   "outputs": [
    {
     "data": {
      "text/plain": [
       "3"
      ]
     },
     "execution_count": 84,
     "metadata": {},
     "output_type": "execute_result"
    }
   ],
   "source": [
    "import numpy as np\n",
    "np.argmin(np.abs(grid.init_temperatures - 2000*u.K))"
   ]
  },
  {
   "cell_type": "code",
   "execution_count": 85,
   "id": "41fe3b6a-07ca-46cc-a1ab-8da2332fe2e6",
   "metadata": {},
   "outputs": [],
   "source": [
    "o = grid.opacities['1H2-16O']"
   ]
  },
  {
   "cell_type": "code",
   "execution_count": 86,
   "id": "14f31218-72c3-4da8-ad97-928b9df3ca67",
   "metadata": {},
   "outputs": [],
   "source": [
    "from frei.core import F_TOA"
   ]
  },
  {
   "cell_type": "code",
   "execution_count": 87,
   "id": "71cb9581-ee0c-4d54-a438-8a465b8761e2",
   "metadata": {},
   "outputs": [],
   "source": [
    "# plt.loglog(grid.lam.si.value, F_TOA(grid.lam.si.value, T_star=grid.planet.T_star, a_rstar=grid.planet.a_rstar))"
   ]
  },
  {
   "cell_type": "code",
   "execution_count": 88,
   "id": "ab041a50-c20d-4102-b067-aa52f0f2a826",
   "metadata": {},
   "outputs": [],
   "source": [
    "from frei.opacity import kappa\n",
    "from jax import numpy as jnp\n",
    "\n",
    "\n",
    "k = kappa(\n",
    "    grid.opacities, grid.init_temperatures, grid.pressures, lam, planet.m_bar.si.value\n",
    ")"
   ]
  },
  {
   "cell_type": "code",
   "execution_count": 89,
   "id": "bfe14cef-b54f-4608-be74-52396a9cae30",
   "metadata": {},
   "outputs": [],
   "source": [
    "# k[jnp.argmin(jnp.arange(k.shape[0])), ...].shape"
   ]
  },
  {
   "cell_type": "code",
   "execution_count": 90,
   "id": "52e75b52-5051-4a91-ba9c-f953036fa9fe",
   "metadata": {},
   "outputs": [],
   "source": [
    "# grid.opacities"
   ]
  },
  {
   "cell_type": "code",
   "execution_count": 91,
   "id": "291fd7a3-dc22-4745-971a-2c789a3ebdfd",
   "metadata": {},
   "outputs": [],
   "source": [
    "n_layers = len(grid.pressures)\n",
    "n_wavelengths = len(grid.lam)\n",
    "fluxes_down = jnp.zeros((n_layers, n_wavelengths))# * flux_unit\n",
    "fluxes_up = jnp.zeros((n_layers, n_wavelengths))# * flux_unit\n",
    "\n",
    "from frei.twostream import emit\n",
    "import numpy as np\n",
    "\n",
    "F_toa = np.zeros_like(grid.lam.value)\n",
    "\n",
    "opacity_grid_temperatures = jnp.linspace(\n",
    "    grid.init_temperatures.si.value.min(), \n",
    "    grid.init_temperatures.si.value.max(), \n",
    "    10\n",
    ")\n",
    "offline_opacities = kappa(\n",
    "    grid.opacities, \n",
    "    opacity_grid_temperatures, #grid.init_temperatures.si.value, \n",
    "    grid.pressures.si.value[::-1], \n",
    "    grid.lam.si.value, \n",
    "    grid.planet.m_bar.si.value\n",
    ")"
   ]
  },
  {
   "cell_type": "code",
   "execution_count": 92,
   "id": "63950586-aab6-438c-aafd-36ae314d1d31",
   "metadata": {},
   "outputs": [],
   "source": [
    "from expecto import get_spectrum\n",
    "\n",
    "ph = get_spectrum(2300, log_g=3.0, cache=True)"
   ]
  },
  {
   "cell_type": "code",
   "execution_count": 93,
   "id": "5816b0a0-464d-4af6-8956-60b85b9e702e",
   "metadata": {},
   "outputs": [],
   "source": [
    "# emission_result = np.load('example_result.txt.npy')[:, 1]"
   ]
  },
  {
   "cell_type": "code",
   "execution_count": 94,
   "id": "267dbe7f-d9ed-43db-a807-85360feece89",
   "metadata": {},
   "outputs": [
    {
     "data": {
      "image/png": "[encoded data removed]",
      "text/plain": [
       "<Figure size 432x288 with 1 Axes>"
      ]
     },
     "metadata": {
      "needs_background": "light"
     },
     "output_type": "display_data"
    }
   ],
   "source": [
    "flux_unit_cgs = u.erg / u.s / u.cm**3\n",
    "flux_unit_mks = u.W/u.m**3\n",
    "\n",
    "from astropy.visualization import quantity_support\n",
    "\n",
    "with quantity_support():\n",
    "    # plt.loglog(grid.lam, emission_result * flux_unit_mks)\n",
    "    plt.loglog(ph.wavelength, ph.flux.to(flux_unit_cgs))\n",
    "# plt.xlim([0.5, 5])\n",
    "# plt.ylim([1, 1e16])"
   ]
  },
  {
   "cell_type": "code",
   "execution_count": 95,
   "id": "3718fc4c-1830-43e3-9aed-6c10a48aaaaf",
   "metadata": {},
   "outputs": [],
   "source": [
    "from jax.scipy.optimize import minimize\n",
    "from jax import jit\n",
    "\n",
    "pressure_bar = jnp.array(grid.pressures.to(u.bar).value)\n",
    "\n",
    "from functools import partial\n",
    "\n",
    "@partial(jit, static_argnums=np.arange(1, 10))\n",
    "def emit_opt(\n",
    "    p, \n",
    "    pressures=grid.pressures.si.value,\n",
    "    lam=grid.lam.to(u.um).value, \n",
    "    F_TOA=F_toa, \n",
    "    g=grid.planet.g.si.value,\n",
    "    m_bar=grid.planet.m_bar.si.value,\n",
    "    alpha=grid.planet.alpha,\n",
    "    presure_bar=pressure_bar, \n",
    "    offline_opacities=offline_opacities, \n",
    "    opacity_grid_temperatures=opacity_grid_temperatures\n",
    "):\n",
    "    T_ref, alpha = p\n",
    "\n",
    "    temps = T_ref * jnp.power(pressure_bar / 0.1, alpha)\n",
    "\n",
    "    return emit(\n",
    "        offline_opacities=offline_opacities, \n",
    "        temperatures=temps, \n",
    "        pressures=pressures, \n",
    "        lam=lam, \n",
    "        F_TOA=F_TOA, \n",
    "        g=g, \n",
    "        m_bar=m_bar,\n",
    "        alpha=alpha,\n",
    "        opacity_grid_temperatures=opacity_grid_temperatures,\n",
    "    )[0][-1]"
   ]
  },
  {
   "cell_type": "code",
   "execution_count": 97,
   "id": "9b7a488d-5218-49e0-bb1f-e58c49f5f2ff",
   "metadata": {},
   "outputs": [
    {
     "data": {
      "text/plain": [
       "[<matplotlib.lines.Line2D at 0x7fb023852630>]"
      ]
     },
     "execution_count": 97,
     "metadata": {},
     "output_type": "execute_result"
    },
    {
     "data": {
      "image/png": "[encoded data removed]",
      "text/plain": [
       "<Figure size 432x288 with 1 Axes>"
      ]
     },
     "metadata": {
      "needs_background": "light"
     },
     "output_type": "display_data"
    }
   ],
   "source": [
    "plt.loglog(grid.lam, emit_opt([2400., 0.2]), '.')\n",
    "plt.plot(grid.lam, emit_opt([2400., 0.10]), '.')\n",
    "plt.plot(grid.lam, emit_opt([3000., 0.30]), '.')"
   ]
  },
  {
   "cell_type": "code",
   "execution_count": 37,
   "id": "69418d1a-f813-44b5-a985-61b80f1f47d2",
   "metadata": {},
   "outputs": [
    {
     "name": "stdout",
     "output_type": "stream",
     "text": [
      "38.9 ms ± 324 µs per loop (mean ± std. dev. of 7 runs, 10 loops each)\n"
     ]
    }
   ],
   "source": [
    "%%timeit\n",
    "emit_opt([2400., 0.105]).block_until_ready()"
   ]
  },
  {
   "cell_type": "code",
   "execution_count": 38,
   "id": "ea5d27f2-be85-4747-8ea3-1b8e74be80b2",
   "metadata": {},
   "outputs": [],
   "source": [
    "from jax import make_jaxpr, mask\n",
    "\n",
    "# make_jaxpr(emit_opt)([2400., 0.105])"
   ]
  },
  {
   "cell_type": "code",
   "execution_count": 39,
   "id": "042749d4-e95c-42d8-a437-dffdd02617e0",
   "metadata": {},
   "outputs": [],
   "source": [
    "example_result = np.array(emit_opt([2345., 0.1]))"
   ]
  },
  {
   "cell_type": "code",
   "execution_count": 40,
   "id": "7a0aaef2-a48b-4735-8e46-8f78a7b0f370",
   "metadata": {},
   "outputs": [],
   "source": [
    "# np.save('example_result.txt', np.vstack([grid.lam.si.value, example_result]).T)"
   ]
  },
  {
   "cell_type": "code",
   "execution_count": 41,
   "id": "866bc7dd-0349-4508-812a-c37740b75db4",
   "metadata": {},
   "outputs": [],
   "source": [
    "y = jnp.array(emit_opt([2345.0, 0.1]))\n",
    "yerr = 5e4 * jnp.sqrt(y)"
   ]
  },
  {
   "cell_type": "code",
   "execution_count": 42,
   "id": "177173ba-1886-4dbd-a81f-4cddb5e89aa3",
   "metadata": {},
   "outputs": [],
   "source": [
    "# yerr.min()"
   ]
  },
  {
   "cell_type": "code",
   "execution_count": 43,
   "id": "970acab3-4a40-4604-8740-419a3966c224",
   "metadata": {},
   "outputs": [
    {
     "data": {
      "text/plain": [
       "[<matplotlib.lines.Line2D at 0x7fb0227f6710>]"
      ]
     },
     "execution_count": 60,
     "metadata": {},
     "output_type": "execute_result"
    },
    {
     "data": {
      "image/png": "[encoded data removed]",
      "text/plain": [
       "<Figure size 432x288 with 1 Axes>"
      ]
     },
     "metadata": {
      "needs_background": "light"
     },
     "output_type": "display_data"
    }
   ],
   "source": [
    "skip = 100\n",
    "plt.errorbar(grid.lam.value[::skip], y[::skip], yerr[::skip])\n",
    "plt.loglog(grid.lam[::skip], example_result[::skip], zorder=10)"
   ]
  },
  {
   "cell_type": "code",
   "execution_count": 44,
   "id": "e56e85e4-698a-4e33-8885-ebb654abeae0",
   "metadata": {},
   "outputs": [],
   "source": [
    "from jax import grad"
   ]
  },
  {
   "cell_type": "code",
   "execution_count": 45,
   "id": "0df858bf-2753-46fa-a6f9-68ef4ecc9a13",
   "metadata": {},
   "outputs": [],
   "source": [
    "# np.finfo('float64').eps"
   ]
  },
  {
   "cell_type": "code",
   "execution_count": 46,
   "id": "f55efb41-d4e6-4dc0-8c35-968576bbf3a5",
   "metadata": {},
   "outputs": [],
   "source": [
    "# from frei.twostream import BB"
   ]
  },
  {
   "cell_type": "code",
   "execution_count": 47,
   "id": "dced341e-3681-4fbd-8beb-d3b1b9404564",
   "metadata": {},
   "outputs": [],
   "source": [
    "# from astropy.constants import c, h, k_B"
   ]
  },
  {
   "cell_type": "code",
   "execution_count": 48,
   "id": "ca8d63c2-5d83-4af2-a0bc-e095c5742138",
   "metadata": {},
   "outputs": [],
   "source": [
    "# temperature = 2400 * u.K\n",
    "# bbf = 2 * h * c.to(u.um/u.s) ** 2 / grid.lam.to(u.um)**5 / np.expm1(h * c / (grid.lam.to(u.um) * k_B * temperature))"
   ]
  },
  {
   "cell_type": "code",
   "execution_count": 49,
   "id": "4e0a68b3-b92b-4503-b39f-30f10071f1be",
   "metadata": {},
   "outputs": [],
   "source": [
    "# bbf.unit.to(u.W/u.m**3)"
   ]
  },
  {
   "cell_type": "code",
   "execution_count": 151,
   "id": "40b1d7b8-26f0-4cb3-a133-88c5e479ce94",
   "metadata": {},
   "outputs": [],
   "source": [
    "# (u.W/u.um**3).to(u.W/u.m**3)"
   ]
  },
  {
   "cell_type": "code",
   "execution_count": 152,
   "id": "baffc6a4-8c32-4144-8995-ec08a6895def",
   "metadata": {},
   "outputs": [],
   "source": [
    "# BB(2400, grid.lam.to(u.um).value)"
   ]
  },
  {
   "cell_type": "code",
   "execution_count": 153,
   "id": "a3c10f4d-2243-410a-86f0-d34f123898c9",
   "metadata": {},
   "outputs": [],
   "source": [
    "from jax import jit\n",
    "\n",
    "@jit\n",
    "def chi2_jax(p, y, yerr):\n",
    "    return jnp.sum((emit_opt(p) - y)**2 / yerr**2)"
   ]
  },
  {
   "cell_type": "code",
   "execution_count": 154,
   "id": "395ba401-02aa-40e6-b326-eb9849e8883e",
   "metadata": {},
   "outputs": [],
   "source": [
    "# grad(chi2_jax)([2400.], y)"
   ]
  },
  {
   "cell_type": "code",
   "execution_count": 155,
   "id": "df188dd6-4597-426f-a78e-c0a7b1bd658c",
   "metadata": {},
   "outputs": [],
   "source": [
    "# x0 = jnp.array([2300.0, 0.11])\n",
    "# result = minimize(\n",
    "#     chi2_jax, x0, args=(jnp.array(y), jnp.array(yerr)), method='bfgs'\n",
    "# )"
   ]
  },
  {
   "cell_type": "code",
   "execution_count": 156,
   "id": "bd960d18-f123-4979-a7a8-4724040cb0c7",
   "metadata": {},
   "outputs": [],
   "source": [
    "# result"
   ]
  },
  {
   "cell_type": "code",
   "execution_count": 1,
   "id": "c7aea075-c242-407f-943e-3a8b25703360",
   "metadata": {},
   "outputs": [],
   "source": [
    "# from astropy.constants import h, c\n",
    "# np.float32(h * c)"
   ]
  },
  {
   "cell_type": "code",
   "execution_count": 158,
   "id": "20110e21-0ed3-4254-b8ab-68e3176142d0",
   "metadata": {},
   "outputs": [],
   "source": [
    "# plt.errorbar(grid.lam.value, y, yerr)\n",
    "# plt.loglog(grid.lam.value, y, zorder=10)"
   ]
  },
  {
   "cell_type": "code",
   "execution_count": null,
   "id": "63dbeeb3-26eb-40f4-9bb0-f94918f465cf",
   "metadata": {},
   "outputs": [],
   "source": []
  },
  {
   "cell_type": "code",
   "execution_count": null,
   "id": "2b885d44-0b3b-4886-a0b9-915f8e306cf7",
   "metadata": {},
   "outputs": [],
   "source": []
  },
  {
   "cell_type": "code",
   "execution_count": 50,
   "id": "173eef3f-95ad-4d2a-bc9d-4cbe67524c83",
   "metadata": {},
   "outputs": [],
   "source": [
    "def numpyro_model(yerr=yerr):\n",
    "    alpha = numpyro.sample(\n",
    "        'alpha', \n",
    "        dist.Uniform(low=0.08, high=0.15)\n",
    "    )\n",
    "\n",
    "    T_ref = numpyro.sample(\n",
    "        'T_ref', \n",
    "        dist.Uniform(low=2000, high=3000)\n",
    "    )\n",
    "    \n",
    "    numpyro.sample(\n",
    "       'obs', \n",
    "       dist.Normal(\n",
    "           loc=emit_opt([T_ref, alpha]),\n",
    "           scale=yerr),\n",
    "       obs=y\n",
    "    )\n",
    "    "
   ]
  },
  {
   "cell_type": "code",
   "execution_count": 51,
   "id": "75d900b3-3836-4024-b2d0-f6523f71dabe",
   "metadata": {},
   "outputs": [],
   "source": [
    "# jnp.sum((emit_opt([2405]) - y)**2 / yerr**2)"
   ]
  },
  {
   "cell_type": "code",
   "execution_count": 52,
   "id": "0fb23f65-f6b3-4b68-b12d-d2e69825d026",
   "metadata": {},
   "outputs": [
    {
     "data": {
      "application/vnd.jupyter.widget-view+json": {
       "model_id": "ffed5a229bc44525be19ed8dae7abbfe",
       "version_major": 2,
       "version_minor": 0
      },
      "text/plain": [
       "  0%|          | 0/600 [00:00<?, ?it/s]"
      ]
     },
     "metadata": {},
     "output_type": "display_data"
    },
    {
     "data": {
      "application/vnd.jupyter.widget-view+json": {
       "model_id": "ae9f1669dd8540dba678af6aa566b476",
       "version_major": 2,
       "version_minor": 0
      },
      "text/plain": [
       "  0%|          | 0/600 [00:00<?, ?it/s]"
      ]
     },
     "metadata": {},
     "output_type": "display_data"
    },
    {
     "data": {
      "application/vnd.jupyter.widget-view+json": {
       "model_id": "9b71ec89aa184310b90676d0faf04579",
       "version_major": 2,
       "version_minor": 0
      },
      "text/plain": [
       "  0%|          | 0/600 [00:00<?, ?it/s]"
      ]
     },
     "metadata": {},
     "output_type": "display_data"
    },
    {
     "data": {
      "application/vnd.jupyter.widget-view+json": {
       "model_id": "ca26767643b94aecb9ad7231368f42a8",
       "version_major": 2,
       "version_minor": 0
      },
      "text/plain": [
       "  0%|          | 0/600 [00:00<?, ?it/s]"
      ]
     },
     "metadata": {},
     "output_type": "display_data"
    }
   ],
   "source": [
    "# Random numbers in jax are generated like this:\n",
    "from jax.random import PRNGKey, split\n",
    "\n",
    "rng_seed = 42\n",
    "rng_keys = split(\n",
    "    PRNGKey(rng_seed), \n",
    "    cpu_cores\n",
    ")\n",
    "\n",
    "# Define a sampler, using here the No U-Turn Sampler (NUTS)\n",
    "# with a dense mass matrix:\n",
    "sampler = NUTS(\n",
    "    numpyro_model, \n",
    "    # dense_mass=True\n",
    ")\n",
    "\n",
    "# Monte Carlo sampling for a number of steps and parallel chains: \n",
    "mcmc = MCMC(\n",
    "    sampler, \n",
    "    num_warmup=100, \n",
    "    num_samples=500, \n",
    "    num_chains=4\n",
    ")\n",
    "\n",
    "# Run the MCMC\n",
    "mcmc.run(rng_keys)"
   ]
  },
  {
   "cell_type": "code",
   "execution_count": 42,
   "id": "24738d6b-bfc3-4dd2-8d75-49c34ef9fe11",
   "metadata": {},
   "outputs": [],
   "source": [
    "# mcmc.get_samples()"
   ]
  },
  {
   "cell_type": "code",
   "execution_count": null,
   "id": "74d5e637-c0fb-4258-bc07-a68d665f0fe9",
   "metadata": {},
   "outputs": [],
   "source": [
    "# result = arviz.from_numpyro(mcmc)\n"
   ]
  },
  {
   "cell_type": "code",
   "execution_count": 64,
   "id": "eeb95e73-4f6a-480b-b409-90e3078f3cb4",
   "metadata": {},
   "outputs": [
    {
     "name": "stdout",
     "output_type": "stream",
     "text": [
      "a 1\n",
      "b 2\n"
     ]
    }
   ],
   "source": [
    "a = {'a': 1, 'b': 2}\n",
    "\n",
    "for k in a:\n",
    "    print(k, a[k])"
   ]
  },
  {
   "cell_type": "code",
   "execution_count": 98,
   "id": "bed0b5cf-1312-4b13-a65e-99bebb467cfe",
   "metadata": {},
   "outputs": [
    {
     "name": "stdout",
     "output_type": "stream",
     "text": [
      "\n",
      "                mean       std    median      5.0%     95.0%     n_eff     r_hat\n",
      "     T_ref   2348.88     61.81   2344.77   2205.44   2349.79     17.46      1.03\n",
      "     alpha      0.10      0.01      0.10      0.10      0.12      5.87      3.00\n",
      "\n",
      "Number of divergences: 0\n"
     ]
    }
   ],
   "source": [
    "mcmc.print_summary()"
   ]
  },
  {
   "cell_type": "code",
   "execution_count": 59,
   "id": "8b610a6a-01df-4381-8a9d-2c8dbfe29f14",
   "metadata": {},
   "outputs": [
    {
     "ename": "AssertionError",
     "evalue": "I don't believe that you want more dimensions than samples!",
     "output_type": "error",
     "traceback": [
      "\u001b[0;31m---------------------------------------------------------------------------\u001b[0m",
      "\u001b[0;31mAssertionError\u001b[0m                            Traceback (most recent call last)",
      "\u001b[0;32m<ipython-input-61-618947491d3b>\u001b[0m in \u001b[0;36m<module>\u001b[0;34m\u001b[0m\n\u001b[1;32m     12\u001b[0m     \u001b[0mnp\u001b[0m\u001b[0;34m.\u001b[0m\u001b[0mvstack\u001b[0m\u001b[0;34m(\u001b[0m\u001b[0;34m[\u001b[0m\u001b[0mv\u001b[0m \u001b[0;32mfor\u001b[0m \u001b[0mv\u001b[0m \u001b[0;32min\u001b[0m \u001b[0mmcmc\u001b[0m\u001b[0;34m.\u001b[0m\u001b[0mget_samples\u001b[0m\u001b[0;34m(\u001b[0m\u001b[0;34m)\u001b[0m\u001b[0;34m]\u001b[0m\u001b[0;34m)\u001b[0m\u001b[0;34m.\u001b[0m\u001b[0mT\u001b[0m\u001b[0;34m,\u001b[0m\u001b[0;34m\u001b[0m\u001b[0;34m\u001b[0m\u001b[0m\n\u001b[1;32m     13\u001b[0m     \u001b[0mquiet\u001b[0m\u001b[0;34m=\u001b[0m\u001b[0;32mTrue\u001b[0m\u001b[0;34m,\u001b[0m\u001b[0;34m\u001b[0m\u001b[0;34m\u001b[0m\u001b[0m\n\u001b[0;32m---> 14\u001b[0;31m     \u001b[0mtruths\u001b[0m\u001b[0;34m=\u001b[0m\u001b[0mtruths\u001b[0m\u001b[0;34m\u001b[0m\u001b[0;34m\u001b[0m\u001b[0m\n\u001b[0m\u001b[1;32m     15\u001b[0m );\n",
      "\u001b[0;32m//anaconda3/lib/python3.7/site-packages/corner/corner.py\u001b[0m in \u001b[0;36mcorner\u001b[0;34m(data, bins, range, weights, color, hist_bin_factor, smooth, smooth1d, labels, label_kwargs, titles, show_titles, title_fmt, title_kwargs, truths, truth_color, scale_hist, quantiles, verbose, fig, max_n_ticks, top_ticks, use_math_text, reverse, labelpad, hist_kwargs, group, var_names, filter_vars, coords, divergences, divergences_kwargs, labeller, **hist2d_kwargs)\u001b[0m\n\u001b[1;32m    288\u001b[0m         \u001b[0mdivergences_kwargs\u001b[0m\u001b[0;34m=\u001b[0m\u001b[0mdivergences_kwargs\u001b[0m\u001b[0;34m,\u001b[0m\u001b[0;34m\u001b[0m\u001b[0;34m\u001b[0m\u001b[0m\n\u001b[1;32m    289\u001b[0m         \u001b[0mlabeller\u001b[0m\u001b[0;34m=\u001b[0m\u001b[0mlabeller\u001b[0m\u001b[0;34m,\u001b[0m\u001b[0;34m\u001b[0m\u001b[0;34m\u001b[0m\u001b[0m\n\u001b[0;32m--> 290\u001b[0;31m         \u001b[0;34m**\u001b[0m\u001b[0mhist2d_kwargs\u001b[0m\u001b[0;34m,\u001b[0m\u001b[0;34m\u001b[0m\u001b[0;34m\u001b[0m\u001b[0m\n\u001b[0m\u001b[1;32m    291\u001b[0m     )\n",
      "\u001b[0;32m//anaconda3/lib/python3.7/site-packages/corner/arviz_corner.py\u001b[0m in \u001b[0;36marviz_corner\u001b[0;34m(data, bins, range, weights, color, hist_bin_factor, smooth, smooth1d, labels, label_kwargs, titles, show_titles, title_fmt, title_kwargs, truths, truth_color, scale_hist, quantiles, verbose, fig, max_n_ticks, top_ticks, use_math_text, reverse, labelpad, hist_kwargs, group, var_names, filter_vars, coords, divergences, divergences_kwargs, labeller, **hist2d_kwargs)\u001b[0m\n\u001b[1;32m    161\u001b[0m         \u001b[0mlabelpad\u001b[0m\u001b[0;34m=\u001b[0m\u001b[0mlabelpad\u001b[0m\u001b[0;34m,\u001b[0m\u001b[0;34m\u001b[0m\u001b[0;34m\u001b[0m\u001b[0m\n\u001b[1;32m    162\u001b[0m         \u001b[0mhist_kwargs\u001b[0m\u001b[0;34m=\u001b[0m\u001b[0mhist_kwargs\u001b[0m\u001b[0;34m,\u001b[0m\u001b[0;34m\u001b[0m\u001b[0;34m\u001b[0m\u001b[0m\n\u001b[0;32m--> 163\u001b[0;31m         \u001b[0;34m**\u001b[0m\u001b[0mhist2d_kwargs\u001b[0m\u001b[0;34m,\u001b[0m\u001b[0;34m\u001b[0m\u001b[0;34m\u001b[0m\u001b[0m\n\u001b[0m\u001b[1;32m    164\u001b[0m     )\n\u001b[1;32m    165\u001b[0m \u001b[0;34m\u001b[0m\u001b[0m\n",
      "\u001b[0;32m//anaconda3/lib/python3.7/site-packages/corner/core.py\u001b[0m in \u001b[0;36mcorner_impl\u001b[0;34m(xs, bins, range, weights, color, hist_bin_factor, smooth, smooth1d, labels, label_kwargs, titles, show_titles, title_fmt, title_kwargs, truths, truth_color, scale_hist, quantiles, verbose, fig, max_n_ticks, top_ticks, use_math_text, reverse, labelpad, hist_kwargs, **hist2d_kwargs)\u001b[0m\n\u001b[1;32m     66\u001b[0m     \u001b[0mxs\u001b[0m \u001b[0;34m=\u001b[0m \u001b[0m_parse_input\u001b[0m\u001b[0;34m(\u001b[0m\u001b[0mxs\u001b[0m\u001b[0;34m)\u001b[0m\u001b[0;34m\u001b[0m\u001b[0;34m\u001b[0m\u001b[0m\n\u001b[1;32m     67\u001b[0m     assert xs.shape[0] <= xs.shape[1], (\n\u001b[0;32m---> 68\u001b[0;31m         \u001b[0;34m\"I don't believe that you want more \"\u001b[0m \u001b[0;34m\"dimensions than samples!\"\u001b[0m\u001b[0;34m\u001b[0m\u001b[0;34m\u001b[0m\u001b[0m\n\u001b[0m\u001b[1;32m     69\u001b[0m     )\n\u001b[1;32m     70\u001b[0m \u001b[0;34m\u001b[0m\u001b[0m\n",
      "\u001b[0;31mAssertionError\u001b[0m: I don't believe that you want more dimensions than samples!"
     ]
    }
   ],
   "source": [
    "# these packages will aid in visualization:\n",
    "import arviz\n",
    "from corner import corner\n",
    "\n",
    "# arviz converts a numpyro MCMC object to an `InferenceData` object based on xarray:\n",
    "# result = arviz.from_numpyro(mcmc)\n",
    "\n",
    "# these are the inputs to the synthetic double-gaussian profile (blue lines)\n",
    "truths = [2345, 0.1]\n",
    "# make a corner plot\n",
    "corner(\n",
    "    np.vstack([v for k, v in mcmc.get_samples().items()]).T, \n",
    "    quiet=True, \n",
    "    truths=truths\n",
    ");"
   ]
  },
  {
   "cell_type": "code",
   "execution_count": null,
   "id": "ec1e97db-57ed-4124-9d3e-8f231034fde0",
   "metadata": {},
   "outputs": [],
   "source": []
  },
  {
   "cell_type": "code",
   "execution_count": 44,
   "id": "0df371b6-fdb0-47c5-9780-c06281daec81",
   "metadata": {},
   "outputs": [],
   "source": [
    "# from jax import numpy as jnp\n",
    "# log_wavelength=np.log(grid.lam.to(u.um).value)\n",
    "\n",
    "# @jit\n",
    "# def BB(log_temp): #, log_wavelength=np.log(grid.lam.to(u.um).value)):\n",
    "#     \"\"\"\n",
    "#     Compute the blackbody flux\n",
    "\n",
    "#     Parameters\n",
    "#     ----------\n",
    "#     temperature : ~astropy.units.Quantity\n",
    "#         Temperature of the blackbody\n",
    "\n",
    "#     Returns\n",
    "#     -------\n",
    "#     bb : function\n",
    "#         Returns a function which takes the wavelength as an\n",
    "#         `~astropy.units.Quantity` and returns the Planck flux\n",
    "#     \"\"\"\n",
    "#     h = 6.62607015e-34  # J s\n",
    "#     c = 299792458.0e6  # um/s\n",
    "#     k_B = 1.380649e-23  # J/K\n",
    "#     temperature = jnp.exp(log_temp)\n",
    "#     wavelength = np.exp(log_wavelength)\n",
    "\n",
    "#     denom0 = jnp.where(\n",
    "#         jnp.expm1(h * c / (wavelength * k_B * temperature)) == 0.0, \n",
    "#         1.0,\n",
    "#         jnp.expm1(h * c / (wavelength * k_B * temperature))\n",
    "#     )\n",
    "\n",
    "#     return jnp.sum(jnp.where(\n",
    "#         denom0 > 0.0,\n",
    "#         1.0,\n",
    "#         1e18 *  # convert microns to meters\n",
    "#         2 * h * c ** 2 / denom0 / np.power(wavelength, 5)\n",
    "#     ))\n"
   ]
  },
  {
   "cell_type": "code",
   "execution_count": 45,
   "id": "5bc1b62f-9684-4cf5-bed8-1ec6f1561c1b",
   "metadata": {},
   "outputs": [],
   "source": [
    "# from jax import lax \n",
    "# h = 6.62607015e-34  # J s\n",
    "# c = 299792458.0e6  # um/s\n",
    "# k_B = 1.380649e-23  # J/K\n",
    "# # np.expm1(1)"
   ]
  },
  {
   "cell_type": "code",
   "execution_count": 46,
   "id": "463005e0-3f9e-4d64-bbf2-0e953cf77e4e",
   "metadata": {},
   "outputs": [],
   "source": [
    "# from jax import grad\n",
    "\n",
    "# # BB(10.0), grad(BB)(10.0)"
   ]
  },
  {
   "cell_type": "code",
   "execution_count": 47,
   "id": "577ae9f7-1e81-4889-8c55-213a028b719f",
   "metadata": {},
   "outputs": [],
   "source": [
    "# def safe_f(x):\n",
    "#     safe_x = jnp.where(x == 0., 1.0, x)\n",
    "#     return jnp.where(\n",
    "#         x == 0, 0., 1./safe_x\n",
    "#     )\n",
    "\n",
    "# x = 0.\n",
    "# grad(safe_f)(x)"
   ]
  },
  {
   "cell_type": "code",
   "execution_count": 48,
   "id": "024c078b-6d31-4c4a-8484-925e2fbfc83d",
   "metadata": {},
   "outputs": [],
   "source": [
    "# h * c * wavenumber"
   ]
  },
  {
   "cell_type": "code",
   "execution_count": 49,
   "id": "6cd4adc3-fded-465f-811e-442bc9736914",
   "metadata": {},
   "outputs": [],
   "source": [
    "# wavenumber"
   ]
  },
  {
   "cell_type": "code",
   "execution_count": 50,
   "id": "168e28d9-9b1e-4380-a2d4-8acf1df2a0af",
   "metadata": {},
   "outputs": [],
   "source": [
    "# # @jit\n",
    "# # https://github.com/google/jax/issues/1052\n",
    "# def denom(x):\n",
    "#     safe_x = jnp.where(x == 0., 1.0, x)\n",
    "#     return jnp.where(\n",
    "#         x == 0., 0., 1./safe_x\n",
    "#     )\n",
    "\n",
    "# @jit\n",
    "# def true_fun(x):\n",
    "#     return 1.0 / x\n",
    "\n",
    "# @jit\n",
    "# def false_fun(x):\n",
    "#     return 0.\n",
    "\n",
    "# @jit\n",
    "# def vectorized_cond(x):\n",
    "#     # true_fun and false_fun must act elementwise (i.e. be vectorized)\n",
    "#     true_op = jnp.where(x > 0., x, 0.5)\n",
    "#     false_op = jnp.where(x > 0., 0.0, x)\n",
    "#     return jnp.where(\n",
    "#         x > 0., \n",
    "#         true_fun(true_op), \n",
    "#         false_fun(false_op)\n",
    "#     )\n",
    "\n",
    "# # def BB(temperature):\n",
    "# #     k_B = 1.380649e-23  # J/K\n",
    "# #     # print(1/(k_B * temperature))\n",
    "# #     return vectorized_cond(k_B * temperature)\n",
    "\n",
    "# @jit\n",
    "# def BB(temperature):\n",
    "#     denom0 = vectorized_cond(jnp.expm1(h * c / k_B * wavenumber * vectorized_cond(temperature)))\n",
    "#     # print(denom0)\n",
    "#     return (1e18 * # convert microns to meters\n",
    "#         2 * h * c ** 2 * wavenumber ** 3 * denom0\n",
    "#     )\n",
    "\n",
    "# # BB(2400.0), grad(BB)(2400.0)"
   ]
  },
  {
   "cell_type": "code",
   "execution_count": null,
   "id": "6c778dda-c080-46a9-a8bd-334aa2b3e7ba",
   "metadata": {},
   "outputs": [],
   "source": []
  },
  {
   "cell_type": "code",
   "execution_count": 51,
   "id": "22bac8a5-0199-40fb-abb6-4e2244a89b0f",
   "metadata": {},
   "outputs": [],
   "source": [
    "# # @jit \n",
    "# def vectorized_cond(pred, true_fun, false_fun, operand):\n",
    "#     # true_fun and false_fun must act elementwise (i.e. be vectorized)\n",
    "#     true_op = jnp.where(pred, operand, 0.5)\n",
    "#     false_op = jnp.where(pred, 0, operand)\n",
    "#     return jnp.where(pred, true_fun(true_op), false_fun(false_op))\n",
    "\n",
    "# def true_fun_tmp(x): \n",
    "#     return jnp.arctan2(x, x)\n",
    "\n",
    "# def false_fun_tmp(x):\n",
    "#     return x\n",
    "\n",
    "# def tmpfun(x):\n",
    "#     return vectorized_cond(\n",
    "#         x > 0.5, \n",
    "#         true_fun_tmp, \n",
    "#         false_fun_tmp,\n",
    "#         x\n",
    "#     )\n",
    "\n",
    "# # no nans, even after reverting #383\n",
    "# tmpfun(0.1), grad(tmpfun)(0.1)\n",
    "# # tmpfun(0.0)"
   ]
  },
  {
   "cell_type": "code",
   "execution_count": 52,
   "id": "ae42b952-9b07-4ef0-b11b-affa0f68ab85",
   "metadata": {},
   "outputs": [],
   "source": [
    "\n",
    "# temperature = 5000\n",
    "# plt.loglog(grid.lam, 1e18 * 2 * h * c ** 2 * wavenumber ** 3 * denom(jnp.expm1(h * c * wavenumber * denom(k_B * temperature))))"
   ]
  },
  {
   "cell_type": "code",
   "execution_count": 53,
   "id": "a69bb7fc-e79a-4ab9-af89-b45256604584",
   "metadata": {},
   "outputs": [],
   "source": [
    "# from jax import jacfwd, jacrev\n",
    "\n",
    "# jacfwd(BB)(2400.0), jacrev(BB)(2400.0)"
   ]
  },
  {
   "cell_type": "code",
   "execution_count": 54,
   "id": "c6772624-6d8e-497b-91fa-e5e30cff19c9",
   "metadata": {},
   "outputs": [],
   "source": [
    "# h = 6.62607015e-34  # J s\n",
    "# c = 299792458.0e6  # um/s\n",
    "# k_B = 1.380649e-23  # J/K\n",
    "# temperature = 240000\n",
    "# np.expm1(h * c / (grid.lam.to(u.um).value * k_B * temperature))"
   ]
  },
  {
   "cell_type": "code",
   "execution_count": 55,
   "id": "2a1eb985-3a67-4cd4-8680-86df11370455",
   "metadata": {},
   "outputs": [],
   "source": [
    "# BB(8, np.log(grid.lam.to(u.um).value))"
   ]
  },
  {
   "cell_type": "code",
   "execution_count": 56,
   "id": "81165d2b-039c-47ba-b2b9-edef3fabeef7",
   "metadata": {},
   "outputs": [],
   "source": [
    "# example = BB(3003)# , np.log(grid.lam.to(u.um).value))"
   ]
  },
  {
   "cell_type": "code",
   "execution_count": 57,
   "id": "b40791a8-c776-43f3-af17-560d2526d3fa",
   "metadata": {},
   "outputs": [],
   "source": [
    "# plt.loglog(grid.lam, BB(3000.0));\n",
    "# plt.loglog(grid.lam, example);"
   ]
  },
  {
   "cell_type": "code",
   "execution_count": 58,
   "id": "7d193d91-be04-43d0-9e85-a676a6c24365",
   "metadata": {},
   "outputs": [],
   "source": [
    "# log_lam = jnp.log(grid.lam.to(u.um).value)\n",
    "\n",
    "\n",
    "# def chi2_test(p, yerr=1e10):\n",
    "#     temp, = p\n",
    "#     return jnp.sum((BB(temp) - example)**2 / yerr**2)"
   ]
  },
  {
   "cell_type": "code",
   "execution_count": 59,
   "id": "4dcc835b-6783-488f-b8dc-816a234adc4c",
   "metadata": {},
   "outputs": [],
   "source": [
    "# BB(9.0, log_lam) - example"
   ]
  },
  {
   "cell_type": "code",
   "execution_count": 60,
   "id": "7ada96dd-0b50-4fa0-852d-0bd5acbf166c",
   "metadata": {},
   "outputs": [],
   "source": [
    "# minimize(chi2_test, jnp.array([2505.0]), method='bfgs')"
   ]
  },
  {
   "cell_type": "code",
   "execution_count": 61,
   "id": "2142cb20-036c-4e51-a6b6-5b7dec52c631",
   "metadata": {},
   "outputs": [],
   "source": [
    "# from jax import grad\n",
    "\n",
    "# grad(BB)(jnp.log(2400.), jnp.log(grid.lam.to(u.um).value))"
   ]
  },
  {
   "cell_type": "code",
   "execution_count": 62,
   "id": "cda4acdd-9bd4-4875-8203-1839e4ad7614",
   "metadata": {},
   "outputs": [],
   "source": [
    "from jax.scipy.ndimage import map_coordinates\n",
    "from jax import numpy as jnp\n",
    "from typing import Iterable, Optional\n",
    "Array = jnp.ndarray\n",
    "\n",
    "class CartesianGrid:\n",
    "    \"\"\"\n",
    "    Linear Multivariate Cartesian Grid interpolation in arbitrary dimensions. Based\n",
    "    on ``map_coordinates``.\n",
    "    Notes:\n",
    "        Translated directly from https://github.com/JohannesBuchner/regulargrid/ to jax.\n",
    "    \"\"\"\n",
    "\n",
    "    values: Array\n",
    "    \"\"\"\n",
    "    Values to interpolate.\n",
    "    \"\"\"\n",
    "    limits: Iterable[Iterable[float]]\n",
    "    \"\"\"\n",
    "    Limits along each dimension of ``values``.\n",
    "    \"\"\"\n",
    "\n",
    "    def __init__(\n",
    "        self,\n",
    "        limits: Iterable[Iterable[float]],\n",
    "        values: Array,\n",
    "        mode: str = \"constant\",\n",
    "        cval: float = jnp.nan,\n",
    "    ):\n",
    "        \"\"\"\n",
    "        Initializer.\n",
    "        Args:\n",
    "            limits: collection of pairs specifying limits of input variables along\n",
    "                each dimension of ``values``\n",
    "            values: values to interpolate. These must be defined on a regular grid.\n",
    "            mode: how to handle out of bounds arguments; see docs for ``map_coordinates``\n",
    "            cval: constant fill value; see docs for ``map_coordinates``\n",
    "        \"\"\"\n",
    "        super().__init__()\n",
    "        self.values = values\n",
    "        self.limits = limits\n",
    "        self.mode = mode\n",
    "        self.cval = cval\n",
    "\n",
    "    def __call__(self, *coords) -> Array:\n",
    "        \"\"\"\n",
    "        Perform interpolation.\n",
    "        Args:\n",
    "            coords: point at which to interpolate. These will be broadcasted if\n",
    "                they are not the same shape.\n",
    "        Returns:\n",
    "            Interpolated values, with extrapolation handled according to ``mode``.\n",
    "        \"\"\"\n",
    "        # transform coords into pixel values\n",
    "        coords = jnp.broadcast_arrays(*coords)\n",
    "        # coords = jnp.asarray(coords)\n",
    "        coords = [\n",
    "            (c - lo) * (n - 1) / (hi - lo)\n",
    "            for (lo, hi), c, n in zip(self.limits, coords, self.values.shape)\n",
    "        ]\n",
    "        return map_coordinates(\n",
    "            self.values, coords, mode=self.mode, cval=self.cval, order=1\n",
    "        )"
   ]
  },
  {
   "cell_type": "code",
   "execution_count": 63,
   "id": "47f7ce3b-5f36-4a8b-8911-f51a1f449005",
   "metadata": {},
   "outputs": [],
   "source": [
    "p = grid.pressures.si.value\n",
    "T = grid.init_temperatures.si.value\n",
    "w = grid.lam.to(u.um).value"
   ]
  },
  {
   "cell_type": "code",
   "execution_count": 64,
   "id": "4cdfed6e-18ff-4552-ba39-bec8d886fcbd",
   "metadata": {},
   "outputs": [],
   "source": [
    "limits = [\n",
    "    [p.min(), p.max()], \n",
    "    [T.min(), T.max()],\n",
    "    [w.min(), w.max()]\n",
    "]\n",
    "cg = CartesianGrid(limits, offline_opacities[::-1, ::-1, :], cval=0.)"
   ]
  },
  {
   "cell_type": "code",
   "execution_count": 65,
   "id": "a7937557-c4fc-4121-867e-99e6e731d00b",
   "metadata": {},
   "outputs": [],
   "source": [
    "coords_input = 1, 2500, w\n",
    "# coords = jnp.broadcast_arrays(*coords_input)\n",
    "# coords = jnp.asarray(coords)\n",
    "# coords = [\n",
    "#     (c - lo) * (n - 1) / (hi - lo)\n",
    "#     for (lo, hi), c, n in zip(limits, coords, offline_opacities.shape)\n",
    "# ]\n",
    "\n",
    "pressure_coord = (1 - p.min()) * (p.shape[0] - 1) / (p.max() - p.min())\n",
    "temperature_coord = (2400 - T.min()) * (T.shape[0] - 1) / (T.max() - T.min())\n",
    "wavelength_coord = (w - w.min()) * (w.shape[0] - 1) / (w.max() - w.min())\n",
    "coords = jnp.broadcast_arrays(temperature_coord, wavelength_coord)\n",
    "# pressure_coord, coords[0]"
   ]
  },
  {
   "cell_type": "code",
   "execution_count": 66,
   "id": "7540edbd-c948-4ff4-8884-6f165dc6503e",
   "metadata": {},
   "outputs": [],
   "source": [
    "# offline_opacities"
   ]
  },
  {
   "cell_type": "code",
   "execution_count": 67,
   "id": "51a970af-b770-4fce-a7ea-bff1a8877378",
   "metadata": {},
   "outputs": [],
   "source": [
    "# pressure_coord = 1.0 # jnp.arange(len(p)) #(jnp.log(p_1) - log_p.min()) * (log_p.shape[0] - 1) / (log_p.max() - log_p.min())\n",
    "# temperature_coord = (T - opacity_grid_temperatures.min()) * (opacity_grid_temperatures.shape[0] - 1) / (opacity_grid_temperatures.max() - opacity_grid_temperatures.min())\n",
    "# wavelength_coord = jnp.arange(len(w)) #(lam - lam.min()) * (lam.shape[0] - 1) / (lam.max() - lam.min())\n",
    "# coords = jnp.broadcast_arrays(pressure_coord, temperature_coord[None, :, None], wavelength_coord[None, None, :])"
   ]
  },
  {
   "cell_type": "code",
   "execution_count": 68,
   "id": "243d98fc-2416-49f9-af21-399b430987be",
   "metadata": {},
   "outputs": [],
   "source": [
    "# coords"
   ]
  },
  {
   "cell_type": "code",
   "execution_count": 69,
   "id": "ff174047-ae20-4c9a-883f-97e41c503c0e",
   "metadata": {},
   "outputs": [],
   "source": [
    "# coords = [pressure_coord, temperature_coord, wavelength_coord]"
   ]
  },
  {
   "cell_type": "code",
   "execution_count": 70,
   "id": "bb6924ab-3b65-45bb-b840-738bd487e76f",
   "metadata": {},
   "outputs": [
    {
     "name": "stdout",
     "output_type": "stream",
     "text": [
      "53.4 µs ± 233 ns per loop (mean ± std. dev. of 7 runs, 10000 loops each)\n"
     ]
    }
   ],
   "source": [
    "%%timeit \n",
    "\n",
    "mc = map_coordinates(\n",
    "    offline_opacities[jnp.argmin(jnp.abs(pressure_coord) - p), ::-1, :], \n",
    "    coords, mode=\"constant\", cval=0, order=1\n",
    ")"
   ]
  },
  {
   "cell_type": "code",
   "execution_count": 71,
   "id": "9bfc7f5c-3357-4041-abb3-523a6829b221",
   "metadata": {},
   "outputs": [],
   "source": [
    "# plt.loglog(grid.lam, mc)"
   ]
  },
  {
   "cell_type": "code",
   "execution_count": 72,
   "id": "56bf710d-1aae-4d70-bb47-c94753fc067d",
   "metadata": {},
   "outputs": [
    {
     "ename": "ValueError",
     "evalue": "coordinates must be a sequence of length input.ndim, but 2 != 3",
     "output_type": "error",
     "traceback": [
      "\u001b[0;31m---------------------------------------------------------------------------\u001b[0m",
      "\u001b[0;31mValueError\u001b[0m                                Traceback (most recent call last)",
      "\u001b[0;32m<ipython-input-72-6d159c8edb27>\u001b[0m in \u001b[0;36m<module>\u001b[0;34m\u001b[0m\n\u001b[1;32m      1\u001b[0m mc = map_coordinates(\n\u001b[0;32m----> 2\u001b[0;31m     \u001b[0moffline_opacities\u001b[0m\u001b[0;34m[\u001b[0m\u001b[0;34m:\u001b[0m\u001b[0;34m:\u001b[0m\u001b[0;34m-\u001b[0m\u001b[0;36m1\u001b[0m\u001b[0;34m,\u001b[0m \u001b[0;34m...\u001b[0m\u001b[0;34m]\u001b[0m\u001b[0;34m,\u001b[0m \u001b[0mcoords\u001b[0m\u001b[0;34m,\u001b[0m \u001b[0mmode\u001b[0m\u001b[0;34m=\u001b[0m\u001b[0;34m\"constant\"\u001b[0m\u001b[0;34m,\u001b[0m \u001b[0mcval\u001b[0m\u001b[0;34m=\u001b[0m\u001b[0;36m0\u001b[0m\u001b[0;34m,\u001b[0m \u001b[0morder\u001b[0m\u001b[0;34m=\u001b[0m\u001b[0;36m1\u001b[0m\u001b[0;34m\u001b[0m\u001b[0;34m\u001b[0m\u001b[0m\n\u001b[0m\u001b[1;32m      3\u001b[0m )\n\u001b[1;32m      4\u001b[0m \u001b[0mmc\u001b[0m\u001b[0;34m.\u001b[0m\u001b[0mshape\u001b[0m\u001b[0;34m\u001b[0m\u001b[0;34m\u001b[0m\u001b[0m\n",
      "\u001b[0;32m//anaconda3/lib/python3.7/site-packages/jax/_src/scipy/ndimage.py\u001b[0m in \u001b[0;36mmap_coordinates\u001b[0;34m(input, coordinates, order, mode, cval)\u001b[0m\n\u001b[1;32m    134\u001b[0m     \u001b[0minput\u001b[0m\u001b[0;34m,\u001b[0m \u001b[0mcoordinates\u001b[0m\u001b[0;34m,\u001b[0m \u001b[0morder\u001b[0m\u001b[0;34m,\u001b[0m \u001b[0mmode\u001b[0m\u001b[0;34m=\u001b[0m\u001b[0;34m'constant'\u001b[0m\u001b[0;34m,\u001b[0m \u001b[0mcval\u001b[0m\u001b[0;34m=\u001b[0m\u001b[0;36m0.0\u001b[0m\u001b[0;34m,\u001b[0m\u001b[0;34m\u001b[0m\u001b[0;34m\u001b[0m\u001b[0m\n\u001b[1;32m    135\u001b[0m ):\n\u001b[0;32m--> 136\u001b[0;31m   \u001b[0;32mreturn\u001b[0m \u001b[0m_map_coordinates\u001b[0m\u001b[0;34m(\u001b[0m\u001b[0minput\u001b[0m\u001b[0;34m,\u001b[0m \u001b[0mcoordinates\u001b[0m\u001b[0;34m,\u001b[0m \u001b[0morder\u001b[0m\u001b[0;34m,\u001b[0m \u001b[0mmode\u001b[0m\u001b[0;34m,\u001b[0m \u001b[0mcval\u001b[0m\u001b[0;34m)\u001b[0m\u001b[0;34m\u001b[0m\u001b[0;34m\u001b[0m\u001b[0m\n\u001b[0m",
      "    \u001b[0;31m[... skipping hidden 14 frame]\u001b[0m\n",
      "\u001b[0;32m//anaconda3/lib/python3.7/site-packages/jax/_src/scipy/ndimage.py\u001b[0m in \u001b[0;36m_map_coordinates\u001b[0;34m(input, coordinates, order, mode, cval)\u001b[0m\n\u001b[1;32m     76\u001b[0m   \u001b[0;32mif\u001b[0m \u001b[0mlen\u001b[0m\u001b[0;34m(\u001b[0m\u001b[0mcoordinates\u001b[0m\u001b[0;34m)\u001b[0m \u001b[0;34m!=\u001b[0m \u001b[0minput\u001b[0m\u001b[0;34m.\u001b[0m\u001b[0mndim\u001b[0m\u001b[0;34m:\u001b[0m\u001b[0;34m\u001b[0m\u001b[0;34m\u001b[0m\u001b[0m\n\u001b[1;32m     77\u001b[0m     raise ValueError('coordinates must be a sequence of length input.ndim, but '\n\u001b[0;32m---> 78\u001b[0;31m                      '{} != {}'.format(len(coordinates), input.ndim))\n\u001b[0m\u001b[1;32m     79\u001b[0m \u001b[0;34m\u001b[0m\u001b[0m\n\u001b[1;32m     80\u001b[0m   \u001b[0mindex_fixer\u001b[0m \u001b[0;34m=\u001b[0m \u001b[0m_INDEX_FIXERS\u001b[0m\u001b[0;34m.\u001b[0m\u001b[0mget\u001b[0m\u001b[0;34m(\u001b[0m\u001b[0mmode\u001b[0m\u001b[0;34m)\u001b[0m\u001b[0;34m\u001b[0m\u001b[0;34m\u001b[0m\u001b[0m\n",
      "\u001b[0;31mValueError\u001b[0m: coordinates must be a sequence of length input.ndim, but 2 != 3"
     ]
    }
   ],
   "source": [
    "mc = map_coordinates(\n",
    "    offline_opacities[::-1, ...], coords, mode=\"constant\", cval=0, order=1\n",
    ")\n",
    "mc.shape"
   ]
  },
  {
   "cell_type": "code",
   "execution_count": null,
   "id": "760f0cc6-609b-43b6-89be-5439b7cc7e72",
   "metadata": {},
   "outputs": [],
   "source": [
    "# np.all(mc == 0)"
   ]
  },
  {
   "cell_type": "markdown",
   "id": "811ea3c1-d426-4e13-aca4-7b4a4423bac8",
   "metadata": {},
   "source": [
    "***"
   ]
  },
  {
   "cell_type": "code",
   "execution_count": 53,
   "id": "aaab45bf-0475-44b1-9335-b9318d334b93",
   "metadata": {},
   "outputs": [],
   "source": [
    "from jax import numpy as jnp\n",
    "import numpy as np\n",
    "\n",
    "p = jnp.logspace(-8, 2, 10)\n",
    "T = 2400. * p ** 0.1\n",
    "w = jnp.linspace(0.5, 5, 10_000)\n",
    "\n",
    "opacities = jnp.array(np.random.normal(size=(len(p), len(T), len(w))))\n"
   ]
  },
  {
   "cell_type": "code",
   "execution_count": null,
   "id": "5ad09b28-fc55-4828-8c21-494864a9168c",
   "metadata": {},
   "outputs": [],
   "source": []
  },
  {
   "cell_type": "code",
   "execution_count": null,
   "id": "70dbc7a9-35b7-43ae-9413-5bb4a19aa29c",
   "metadata": {},
   "outputs": [],
   "source": [
    "from jax import lax"
   ]
  },
  {
   "cell_type": "code",
   "execution_count": null,
   "id": "ca48eda0-8668-4505-9105-1ba98318bf1e",
   "metadata": {},
   "outputs": [],
   "source": [
    "# def scan(f, init, xs, length=None):\n",
    "#   if xs is None:\n",
    "#     xs = [None] * length\n",
    "#   carry = init\n",
    "#   ys = []\n",
    "#   for x in xs:\n",
    "#     carry, y = f(carry, x)\n",
    "#     ys.append(y)\n",
    "#   return carry, np.stack(ys)\n",
    "\n",
    "# def fori_loop(lower, upper, body_fun, init_val):\n",
    "#   val = init_val\n",
    "#   for i in range(lower, upper):\n",
    "#     val = body_fun(i, val)\n",
    "#   return val\n",
    "\n",
    "# def outer(carry, i):\n",
    "#     def inner(carry, j):\n",
    "#         def interp_over_T(carry, x, op=opacities[i, :, j], T=T):\n",
    "#             interp_T = jnp.interp(x, T, op)\n",
    "#             return carry, interp_T\n",
    "#         return carry, lax.scan(interp_over_T, 0.0, T)[1]   \n",
    "#     return carry, lax.scan(inner, 0.0, jnp.arange(len(w)))[1]\n",
    "\n",
    "# lax.scan(outer, 0.0, np.arange(len(p)))[1].shape\n",
    "\n",
    "# lax.fori_loop(0, len(w), iterate_over_press_temp, np.zeros(len(w)))"
   ]
  },
  {
   "cell_type": "code",
   "execution_count": null,
   "id": "e57c3f9a-1349-43bf-9905-dad80d437f02",
   "metadata": {},
   "outputs": [],
   "source": [
    "i = 0 \n",
    "T_1 = jnp.array([1000])\n",
    "def inner(carry, j, opacities=opacities, T=T, T_1=T_1):\n",
    "    def interp_over_T(carry, x, op=opacities[i, :, j], T=T, T_1=T_1):\n",
    "        interp_T = jnp.interp(x, T, op)\n",
    "        return carry, interp_T\n",
    "    return carry, lax.scan(interp_over_T, 0.0, T_1)[1]   \n",
    "double_scan = lax.scan(inner, 0.0, jnp.arange(len(w)))[1][:, 0]"
   ]
  },
  {
   "cell_type": "code",
   "execution_count": null,
   "id": "995767b0-3b8b-41da-a79b-4b9bbba38d6b",
   "metadata": {},
   "outputs": [],
   "source": [
    "double_vmap = vmap(lambda i: jnp.interp(1000.0, T, opacities[0, :, i]))(jnp.arange(len(w))).T[0]"
   ]
  },
  {
   "cell_type": "code",
   "execution_count": null,
   "id": "857c7a4a-7e7d-426a-a7c3-b42299ca50c5",
   "metadata": {},
   "outputs": [],
   "source": [
    "from jax import pmap, devices"
   ]
  },
  {
   "cell_type": "code",
   "execution_count": null,
   "id": "6ee76c22-ab32-43ea-a7dd-e5a45c5e1a2f",
   "metadata": {},
   "outputs": [],
   "source": [
    "%timeit double_scan = lax.scan(inner, 0.0, jnp.arange(len(w)))[1][:, 0]"
   ]
  },
  {
   "cell_type": "code",
   "execution_count": null,
   "id": "6c75a4a0-9657-4a63-8686-76265053e22c",
   "metadata": {},
   "outputs": [],
   "source": [
    "%%timeit \n",
    "double_vmap = vmap(\n",
    "    lambda i: jnp.interp(1000.0, T, opacities[0, :, i]), \n",
    ")(jnp.arange(len(w))).T[0]"
   ]
  },
  {
   "cell_type": "code",
   "execution_count": null,
   "id": "a9c19701-70b1-4160-bdcb-02efe685d711",
   "metadata": {},
   "outputs": [],
   "source": [
    "# double_vmap == double_scan"
   ]
  },
  {
   "cell_type": "code",
   "execution_count": null,
   "id": "6c5a5950-7f40-43ab-9ae5-651358c4292b",
   "metadata": {},
   "outputs": [],
   "source": [
    "from jax import vmap\n",
    "\n",
    "\n",
    "# vmap(lambda x: jnp.interp(x, T, opacities[:, :, j]))(T)\n",
    "\n",
    "\n",
    "# def inner(temp, j):\n",
    "#     return vmap(jnp.interp)(temp, T, opacities[:, :, j])\n",
    "# inner(T[0], jnp.arange(len(w)))\n",
    "#vmap(inner)(jnp.arange(len(w)))"
   ]
  },
  {
   "cell_type": "code",
   "execution_count": null,
   "id": "26036f1c-b07c-4e93-abc5-bc87b8fe40ea",
   "metadata": {},
   "outputs": [],
   "source": []
  }
 ],
 "metadata": {
  "kernelspec": {
   "display_name": "Python 3",
   "language": "python",
   "name": "python3"
  },
  "language_info": {
   "codemirror_mode": {
    "name": "ipython",
    "version": 3
   },
   "file_extension": ".py",
   "mimetype": "text/x-python",
   "name": "python",
   "nbconvert_exporter": "python",
   "pygments_lexer": "ipython3",
   "version": "3.7.3"
  }
 },
 "nbformat": 4,
 "nbformat_minor": 5
}
