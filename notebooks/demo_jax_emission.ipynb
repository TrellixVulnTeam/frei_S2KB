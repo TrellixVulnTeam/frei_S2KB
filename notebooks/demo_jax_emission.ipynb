{
 "cells": [
  {
   "cell_type": "markdown",
   "id": "5e525dba-7eae-4215-8eb8-b640944dc9ab",
   "metadata": {},
   "source": [
    "Remember to always run this cell first:"
   ]
  },
  {
   "cell_type": "code",
   "execution_count": null,
   "id": "afbbc590-b1ef-4f2d-b8c6-c9a2ca346222",
   "metadata": {},
   "outputs": [],
   "source": [
    "# We need to import numpyro first, though we use it last\n",
    "import numpyro\n",
    "from numpyro.infer import MCMC, NUTS\n",
    "from numpyro import distributions as dist\n",
    "\n",
    "# Set the number of cores on your machine for parallelism:\n",
    "cpu_cores = 4\n",
    "numpyro.set_host_device_count(cpu_cores)"
   ]
  },
  {
   "cell_type": "markdown",
   "id": "38de849b-1f65-4dcb-a4f9-95d8ab8e142f",
   "metadata": {},
   "source": [
    "This sets up T-p-$\\lambda$ grid:"
   ]
  },
  {
   "cell_type": "code",
   "execution_count": null,
   "id": "42efcb7c-2290-46b5-8821-9f9f216c42dd",
   "metadata": {},
   "outputs": [],
   "source": [
    "import sys\n",
    "sys.path.insert(0, '../')\n",
    "\n",
    "import numpy as np\n",
    "import matplotlib.pyplot as plt\n",
    "import astropy.units as u\n",
    "from frei import Planet, Grid, load_example_opacity\n",
    "from frei.core import F_TOA\n",
    "from frei.opacity import kappa\n",
    "from jax import numpy as jnp\n",
    "from frei.twostream import emit\n",
    "import numpy as np\n",
    "from jax.scipy.optimize import minimize\n",
    "from jax import jit\n",
    "from functools import partial\n",
    "from corner import corner\n",
    "\n",
    "# Define planetary system parameters\n",
    "planet = Planet.from_hot_jupiter()\n",
    "\n",
    "n_wavelengths = 10_000\n",
    "lam = np.sort(\n",
    "    np.random.uniform(1e-6, 10e-6, n_wavelengths)\n",
    ") * u.m\n",
    "\n",
    "# Define a grid in wavelength, pressure, and temperature; set temperature\n",
    "grid = Grid(\n",
    "    planet,\n",
    "    lam=lam,\n",
    "    n_layers=10,       # number of pressure layers\n",
    "    T_ref=2400 * u.K, # reference temperature at 0.1 bar (~T_eff)\n",
    ")\n",
    "\n",
    "# Load synthetic opacities, for demonstration purposes only\n",
    "grid.load_opacities(\n",
    "    opacities=load_example_opacity(grid)\n",
    ");"
   ]
  },
  {
   "cell_type": "markdown",
   "id": "ba04f3c8-52e1-4cbf-9bc6-4387a66f9d13",
   "metadata": {},
   "source": [
    "`k` is the opacity (in some units) with dimensions: (p, T, $\\lambda$)"
   ]
  },
  {
   "cell_type": "code",
   "execution_count": null,
   "id": "291fd7a3-dc22-4745-971a-2c789a3ebdfd",
   "metadata": {},
   "outputs": [],
   "source": [
    "n_layers = len(grid.pressures)\n",
    "n_wavelengths = len(grid.lam)\n",
    "fluxes_down = jnp.zeros((n_layers, n_wavelengths))\n",
    "fluxes_up = jnp.zeros((n_layers, n_wavelengths))\n",
    "\n",
    "\n",
    "# flux at the top of the atmosphere (which matters\n",
    "# when iterating for rad eq.)\n",
    "F_toa = np.zeros_like(grid.lam.value)\n",
    "\n",
    "# the offline opacity grid is defined here\n",
    "opacity_grid_temperatures = grid.init_temperatures.si.value\n",
    "# opacity_grid_temperatures = jnp.linspace(\n",
    "#     grid.init_temperatures.si.value.min(), \n",
    "#     grid.init_temperatures.si.value.max(), \n",
    "#     10\n",
    "# )\n",
    "offline_opacities = kappa(\n",
    "    grid.opacities, \n",
    "    opacity_grid_temperatures, \n",
    "    grid.pressures.si.value[::-1], \n",
    "    grid.lam.si.value, \n",
    "    grid.planet.m_bar.si.value\n",
    ")"
   ]
  },
  {
   "cell_type": "code",
   "execution_count": null,
   "id": "3718fc4c-1830-43e3-9aed-6c10a48aaaaf",
   "metadata": {},
   "outputs": [],
   "source": [
    "# grid of pressures in units of bar for \n",
    "# producing the T-p curve with a \"sensible\" alpha:\n",
    "pressure_bar = jnp.array(grid.pressures.to(u.bar).value)\n",
    "\n",
    "@partial(jit, static_argnums=np.arange(1, 10))\n",
    "def emit_opt(\n",
    "    p, \n",
    "    pressures=grid.pressures.si.value,\n",
    "    lam=grid.lam.to(u.um).value, \n",
    "    F_TOA=F_toa, \n",
    "    g=grid.planet.g.si.value,\n",
    "    m_bar=grid.planet.m_bar.si.value,\n",
    "    alpha=grid.planet.alpha,\n",
    "    presure_bar=pressure_bar, \n",
    "    offline_opacities=offline_opacities, \n",
    "    opacity_grid_temperatures=opacity_grid_temperatures\n",
    "):\n",
    "    T_ref, alpha = p\n",
    "\n",
    "    temps = T_ref * jnp.power(pressure_bar / 0.1, alpha)\n",
    "\n",
    "    return emit(\n",
    "        offline_opacities=offline_opacities, \n",
    "        temperatures=temps, \n",
    "        pressures=pressures, \n",
    "        lam=lam, \n",
    "        F_TOA=F_TOA, \n",
    "        g=g, \n",
    "        m_bar=m_bar,\n",
    "        alpha=alpha,\n",
    "        opacity_grid_temperatures=opacity_grid_temperatures,\n",
    "    )[0][-1]"
   ]
  },
  {
   "cell_type": "code",
   "execution_count": null,
   "id": "9b7a488d-5218-49e0-bb1f-e58c49f5f2ff",
   "metadata": {},
   "outputs": [],
   "source": [
    "plt.loglog(grid.lam, emit_opt([2400., 0.2]), '.')\n",
    "plt.plot(grid.lam, emit_opt([2400., 0.10]), '.')\n",
    "plt.plot(grid.lam, emit_opt([3000., 0.30]), '.')"
   ]
  },
  {
   "cell_type": "code",
   "execution_count": null,
   "id": "69418d1a-f813-44b5-a985-61b80f1f47d2",
   "metadata": {},
   "outputs": [],
   "source": [
    "%%timeit\n",
    "emit_opt([2400., 0.105]).block_until_ready()"
   ]
  },
  {
   "cell_type": "markdown",
   "id": "be5c214c-ec17-4718-8aed-2ab9112fe546",
   "metadata": {},
   "source": [
    "This is where we define the example synthetic spectrum to fit (i.e. \"DATA\")"
   ]
  },
  {
   "cell_type": "code",
   "execution_count": null,
   "id": "866bc7dd-0349-4508-812a-c37740b75db4",
   "metadata": {},
   "outputs": [],
   "source": [
    "y = jnp.array(emit_opt([2345.0, 0.1]))\n",
    "yerr = 5e4 * jnp.sqrt(y)"
   ]
  },
  {
   "cell_type": "code",
   "execution_count": null,
   "id": "173eef3f-95ad-4d2a-bc9d-4cbe67524c83",
   "metadata": {},
   "outputs": [],
   "source": [
    "def numpyro_model(y=y, yerr=yerr):\n",
    "    alpha = numpyro.sample(\n",
    "        'alpha', \n",
    "        dist.TwoSidedTruncatedDistribution(\n",
    "            dist.Normal(loc=0.1, scale=0.05),\n",
    "            low=0.08, high=0.2\n",
    "        )\n",
    "    )\n",
    "\n",
    "    T_ref = numpyro.sample(\n",
    "        'T_ref', \n",
    "        dist.TwoSidedTruncatedDistribution(\n",
    "            dist.Normal(loc=2400, scale=100), \n",
    "            low=0.0, high=3000\n",
    "        )\n",
    "    )\n",
    "\n",
    "    numpyro.sample(\n",
    "       'obs', \n",
    "       dist.Normal(\n",
    "           loc=emit_opt([T_ref, alpha]),\n",
    "           scale=yerr),\n",
    "       obs=y\n",
    "    )"
   ]
  },
  {
   "cell_type": "code",
   "execution_count": null,
   "id": "0fb23f65-f6b3-4b68-b12d-d2e69825d026",
   "metadata": {},
   "outputs": [],
   "source": [
    "# Random numbers in jax are generated like this:\n",
    "from jax.random import PRNGKey, split\n",
    "\n",
    "rng_seed = 42\n",
    "rng_keys = split(\n",
    "    PRNGKey(rng_seed), \n",
    "    cpu_cores\n",
    ")\n",
    "\n",
    "# Define a sampler, using here the No U-Turn Sampler (NUTS)\n",
    "# with a dense mass matrix:\n",
    "sampler = NUTS(\n",
    "    numpyro_model, \n",
    "    dense_mass=True\n",
    ")\n",
    "\n",
    "# Monte Carlo sampling for a number of steps and parallel chains: \n",
    "mcmc = MCMC(\n",
    "    sampler, \n",
    "    num_warmup=100, \n",
    "    num_samples=500, \n",
    "    num_chains=4\n",
    ")\n",
    "\n",
    "# Run the MCMC\n",
    "mcmc.run(rng_keys)"
   ]
  },
  {
   "cell_type": "code",
   "execution_count": null,
   "id": "8b610a6a-01df-4381-8a9d-2c8dbfe29f14",
   "metadata": {},
   "outputs": [],
   "source": [
    "truths = [2345, 0.1]\n",
    "\n",
    "# make a corner plot\n",
    "corner(\n",
    "    np.vstack([v for k, v in mcmc.get_samples().items()]).T, \n",
    "    quiet=True, \n",
    "    truths=truths\n",
    ");"
   ]
  },
  {
   "cell_type": "code",
   "execution_count": null,
   "id": "4d60471e-face-4da2-a4f5-f8690a653843",
   "metadata": {},
   "outputs": [],
   "source": []
  },
  {
   "cell_type": "code",
   "execution_count": null,
   "id": "7ea50ca2-99d6-493a-b997-295f2a2ef44c",
   "metadata": {},
   "outputs": [],
   "source": []
  }
 ],
 "metadata": {
  "kernelspec": {
   "display_name": "Python 3",
   "language": "python",
   "name": "python3"
  },
  "language_info": {
   "codemirror_mode": {
    "name": "ipython",
    "version": 3
   },
   "file_extension": ".py",
   "mimetype": "text/x-python",
   "name": "python",
   "nbconvert_exporter": "python",
   "pygments_lexer": "ipython3",
   "version": "3.7.3"
  }
 },
 "nbformat": 4,
 "nbformat_minor": 5
}
